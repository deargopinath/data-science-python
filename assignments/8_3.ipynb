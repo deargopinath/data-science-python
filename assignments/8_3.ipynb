{
 "cells": [
  {
   "cell_type": "code",
   "execution_count": 3,
   "metadata": {},
   "outputs": [
    {
     "name": "stdout",
     "output_type": "stream",
     "text": [
      "             Name  Score  Age         Ethinicity Subject Sex  ID\n",
      "0  AI-KYUNG CHUNG   88.0   18     White American   Maths   M   1\n",
      "1     ALAN HARVEY   85.0   19  European American   Maths   M   2\n",
      "2    ALAN REYNAUD   45.0   19  European American   Maths   M   3\n",
      "3  ALBERT CENDANA   82.0   18     White American   Maths   M   4\n",
      "4  ALBERT HOLT JR   82.0   18     White American   Maths   F   5\n",
      "   Score  Age Subject Sex  ID\n",
      "0   88.0   18   Maths   M   1\n",
      "1   85.0   19   Maths   M   2\n",
      "2   45.0   19   Maths   M   3\n",
      "3   82.0   18   Maths   M   4\n",
      "4   82.0   18   Maths   F   5\n",
      "Score      3\n",
      "Age        0\n",
      "Subject    0\n",
      "Sex        0\n",
      "ID         0\n",
      "dtype: int64\n",
      "Score      0\n",
      "Age        0\n",
      "Subject    0\n",
      "Sex        0\n",
      "ID         0\n",
      "dtype: int64\n",
      "Done\n"
     ]
    }
   ],
   "source": [
    "import pandas as pd\n",
    "import numpy as np\n",
    "\n",
    "\n",
    "# Read the three files\n",
    "\n",
    "math_data = pd.read_csv(\"MathScoreTerm1.csv\")\n",
    "ds_data = pd.read_csv(\"DSScoreTerm1.csv\")\n",
    "physics_data = pd.read_csv(\"PhysicsScoreTerm1.csv\")\n",
    "\n",
    "# Preview the first data set\n",
    "print(math_data.head())\n",
    "\n",
    "\n",
    "#Remove Name and Ethinicty columns from each  data set\n",
    "math_data = math_data.drop(['Name','Ethinicity'], axis=1)\n",
    "print(math_data.head())\n",
    "\n",
    "# print Summary of missing values in Term1 Data\n",
    "print (math_data.isnull().sum())\n",
    "\n",
    "# Fill Missing Scores with 0\n",
    "math_data['Score'] = math_data['Score'].fillna(0)\n",
    "# Check Again if values are filled correctly\n",
    "print (math_data.isnull().sum())\n",
    "\n",
    "\n",
    "# Do the same for DS and Physics\n",
    "\n",
    "ds_data = ds_data.drop(['Name','Ethinicity'], axis=1)\n",
    "ds_data['Score'] = ds_data['Score'].fillna(0)\n",
    "\n",
    "physics_data = physics_data.drop(['Name','Ethinicity'], axis=1)\n",
    "physics_data['Score'] = physics_data['Score'].fillna(0)\n",
    "\n",
    "all_data =[math_data,ds_data,physics_data]\n",
    "\n",
    "# Convert Sex M to 1 and F to 2\n",
    "for dataset in all_data:\n",
    "    dataset['Sex'] = dataset['Sex'].map({'M': 1, 'F': 2}).astype(int)\n",
    "\n",
    "all_data_df = pd.concat(all_data)\n",
    "all_data_df.to_csv('ScoreFinal.csv',index=False)\n",
    "\n",
    "print (\"Done\")\n"
   ]
  },
  {
   "cell_type": "code",
   "execution_count": null,
   "metadata": {
    "collapsed": true
   },
   "outputs": [],
   "source": []
  }
 ],
 "metadata": {
  "kernelspec": {
   "display_name": "Python 3",
   "language": "python",
   "name": "python3"
  },
  "language_info": {
   "codemirror_mode": {
    "name": "ipython",
    "version": 3
   },
   "file_extension": ".py",
   "mimetype": "text/x-python",
   "name": "python",
   "nbconvert_exporter": "python",
   "pygments_lexer": "ipython3",
   "version": "3.6.3"
  }
 },
 "nbformat": 4,
 "nbformat_minor": 2
}
