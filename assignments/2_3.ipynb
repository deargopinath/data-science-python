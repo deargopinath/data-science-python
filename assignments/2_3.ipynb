{
 "cells": [
  {
   "cell_type": "markdown",
   "metadata": {},
   "source": [
    "# Module 3: Deep Dive - Functions, OOPs, Modules, Errors and Exceptions"
   ]
  },
  {
   "cell_type": "code",
   "execution_count": 1,
   "metadata": {},
   "outputs": [],
   "source": [
    "from Customer import Customer\n",
    "import re\n"
   ]
  },
  {
   "cell_type": "markdown",
   "metadata": {},
   "source": [
    "## Define exception for BlackListed Customer"
   ]
  },
  {
   "cell_type": "code",
   "execution_count": 2,
   "metadata": {},
   "outputs": [],
   "source": [
    "class CustomerNotAllowed(Exception):\n",
    "\n",
    "    def __init__(self, value):\n",
    "        self.value = value\n",
    "\n",
    "    def __str__(self):\n",
    "        return repr(self.value)\n",
    "\n",
    "## End of Exception\n"
   ]
  },
  {
   "cell_type": "markdown",
   "metadata": {},
   "source": [
    "## function to process the data and return Customer object"
   ]
  },
  {
   "cell_type": "code",
   "execution_count": 3,
   "metadata": {},
   "outputs": [],
   "source": [
    "def createCustomerObject(custdata):\n",
    "    # Extract title\n",
    "    customer = Customer()\n",
    "    match = re.search(' ([A-Za-z]+)\\.', custdata) # Usage of regular Expression\n",
    "    title = \"\"\n",
    "    if( match is not None):\n",
    "        title = match.group(0)\n",
    "        customer.setTitle(title.strip())\n",
    "    data = (custdata.replace(title,'')).split(',',2) # Removed the title from name\n",
    "    customer.setLname(data[0].strip())\n",
    "    customer.setFname(data[1].strip())\n",
    "    customer.setIsblacklisted(data[2])\n",
    "    return customer\n"
   ]
  },
  {
   "cell_type": "markdown",
   "metadata": {},
   "source": [
    "## function to create order if user is not blacklisted else throw exception"
   ]
  },
  {
   "cell_type": "code",
   "execution_count": 4,
   "metadata": {},
   "outputs": [],
   "source": [
    "def createOrder(customer,productname):\n",
    "\n",
    "    if customer.isblacklisted == \"1\":\n",
    "        #print(\"Raising Customer Exception\")\n",
    "        raise CustomerNotAllowed(\"Customer is Black Listed:\" + customer.__str__())\n",
    "    else:\n",
    "        print(\" Order created successfully for:\" + customer.__str__())\n"
   ]
  },
  {
   "cell_type": "markdown",
   "metadata": {},
   "source": [
    "### Start of the  flow"
   ]
  },
  {
   "cell_type": "markdown",
   "metadata": {},
   "source": [
    "### Read the file"
   ]
  },
  {
   "cell_type": "code",
   "execution_count": 5,
   "metadata": {},
   "outputs": [
    {
     "name": "stdout",
     "output_type": "stream",
     "text": [
      "No . of customers read from file: 532\n"
     ]
    }
   ],
   "source": [
    "customer_file = open('FairDealCustomerData.csv','r')\n",
    "customerlist = [] # list defined to store Customer Objects\n",
    "\n",
    "for data in customer_file:\n",
    "    customerlist.append(createCustomerObject(data.rstrip('\\n')))\n",
    "\n",
    "customer_file.close()\n",
    "print (\"No . of customers read from file:\",len(customerlist))\n"
   ]
  },
  {
   "cell_type": "markdown",
   "metadata": {},
   "source": [
    "### Create order for first two customers , 1st One is black listed"
   ]
  },
  {
   "cell_type": "code",
   "execution_count": 6,
   "metadata": {},
   "outputs": [
    {
     "name": "stdout",
     "output_type": "stream",
     "text": [
      " Exception Customer NotAllowed handled message 'Customer is Black Listed:Title:Mr. First Name:Owen Harris Last Name:Braund Blacklisted:1'\n",
      " Order created successfully for:Title:Miss. First Name:Laina Last Name:Heikkinen Blacklisted:0\n",
      "End of Program\n"
     ]
    }
   ],
   "source": [
    "for i in range(0,2):\n",
    "    try:\n",
    "        createOrder(customerlist[i],\" LEDTV\")\n",
    "    except CustomerNotAllowed as cne:\n",
    "        print(\" Exception Customer NotAllowed handled message\", cne)\n",
    "    # finally:\n",
    "\n",
    "print (\"End of Program\")\n"
   ]
  },
  {
   "cell_type": "code",
   "execution_count": 7,
   "metadata": {},
   "outputs": [],
   "source": [
    "# customer1 = Customer()\n",
    "# customer1.setTitle(\"Mr.\")\n",
    "# customer1.setFname(\"Barack\")\n",
    "# customer1.setLname(\"Obama\")\n",
    "#\n",
    "# customer2 = Customer()\n",
    "# customer2.setTitle(\"Mrs.\")\n",
    "# customer2.setFname(\"George\")\n",
    "# customer2.setLname(\"Bush\")\n",
    "#\n",
    "# print(\"First Customer Title %s\" , customer1.getTitle())\n",
    "# print(\"Second Customer Title %s\" , customer2.getTitle())\n",
    "# print(\"First Customer Title %s\" , customer1.getTitle())\n"
   ]
  },
  {
   "cell_type": "code",
   "execution_count": null,
   "metadata": {},
   "outputs": [],
   "source": []
  }
 ],
 "metadata": {
  "kernelspec": {
   "display_name": "Python 3",
   "language": "python",
   "name": "python3"
  },
  "language_info": {
   "codemirror_mode": {
    "name": "ipython",
    "version": 3
   },
   "file_extension": ".py",
   "mimetype": "text/x-python",
   "name": "python",
   "nbconvert_exporter": "python",
   "pygments_lexer": "ipython3",
   "version": "3.6.3"
  }
 },
 "nbformat": 4,
 "nbformat_minor": 2
}
