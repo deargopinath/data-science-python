{
 "cells": [
  {
   "cell_type": "markdown",
   "metadata": {},
   "source": [
    "# Case Study: Biodegradability Analysis"
   ]
  },
  {
   "cell_type": "markdown",
   "metadata": {},
   "source": [
    "# Import Libraries\n",
    "\n",
    "**Import the usual libraries **"
   ]
  },
  {
   "cell_type": "code",
   "execution_count": 92,
   "metadata": {
    "collapsed": true
   },
   "outputs": [],
   "source": [
    "import matplotlib.pyplot as plt\n",
    "import pandas as pd\n",
    "import numpy as np\n",
    "import seaborn as sns\n",
    "%matplotlib inline"
   ]
  },
  {
   "cell_type": "markdown",
   "metadata": {},
   "source": [
    "# Data Set : QSAR BioDegradation Data Set\n",
    "\n",
    "The data have been used to develop QSAR (Quantitative Structure Activity Relationships) models for the study of the relationships between chemical structure and biodegradation of molecules. Biodegradation experimental values of 1055 chemicals were collected.\n",
    "\n",
    "Data can be found on UCI Machine Learning Repository: \n",
    "https://archive.ics.uci.edu/ml/datasets/QSAR+biodegradation\n",
    "\n",
    "Attribute Information:\n",
    "\n",
    "1) SpMax_L: Leading eigenvalue from Laplace matrix <br>\n",
    "2) J_Dz(e): Balaban-like index from Barysz matrix weighted by Sanderson electronegativity <br>\n",
    "3) nHM: Number of heavy atoms <br>\n",
    "4) F01[N-N]: Frequency of N-N at topological distance 1 <br>\n",
    "5) F04[C-N]: Frequency of C-N at topological distance 4 <br>\n",
    "6) NssssC: Number of atoms of type ssssC <br>\n",
    "7) nCb-: Number of substituted benzene C(sp2) <br>\n",
    "8) C%: Percentage of C atoms <br>\n",
    "9) nCp: Number of terminal primary C(sp3) <br>\n",
    "10) nO: Number of oxygen atoms <br>\n",
    "11) F03[C-N]: Frequency of C-N at topological distance 3 <br>\n",
    "12) SdssC: Sum of dssC E-states <br>\n",
    "13) HyWi_B(m): Hyper-Wiener-like index (log function) from Burden matrix weighted by mass <br>\n",
    "14) LOC: Lopping centric index <br>\n",
    "15) SM6_L: Spectral moment of order 6 from Laplace matrix <br>\n",
    "16) F03[C-O]: Frequency of C - O at topological distance 3 <br>\n",
    "17) Me: Mean atomic Sanderson electronegativity (scaled on Carbon atom) <br>\n",
    "18) Mi: Mean first ionization potential (scaled on Carbon atom) <br>\n",
    "19) nN-N: Number of N hydrazines <br>\n",
    "20) nArNO2: Number of nitro groups (aromatic) <br>\n",
    "21) nCRX3: Number of CRX3 <br>\n",
    "22) SpPosA_B(p): Normalized spectral positive sum from Burden matrix weighted by polarizability <br>\n",
    "23) nCIR: Number of circuits <br>\n",
    "24) B01[C-Br]: Presence/absence of C - Br at topological distance 1 <br>\n",
    "25) B03[C-Cl]: Presence/absence of C - Cl at topological distance 3 <br>\n",
    "26) N-073: Ar2NH / Ar3N / Ar2N-Al / R..N..R <br>\n",
    "27) SpMax_A: Leading eigenvalue from adjacency matrix (Lovasz-Pelikan index) <br>\n",
    "28) Psi_i_1d: Intrinsic state pseudoconnectivity index - type 1d <br>\n",
    "29) B04[C-Br]: Presence/absence of C - Br at topological distance 4 <br>\n",
    "30) SdO: Sum of dO E-states <br>\n",
    "31) TI2_L: Second Mohar index from Laplace matrix <br>\n",
    "32) nCrt: Number of ring tertiary C(sp3) <br>\n",
    "33) C-026: R--CX--R <br>\n",
    "34) F02[C-N]: Frequency of C - N at topological distance 2 <br>\n",
    "35) nHDon: Number of donor atoms for H-bonds (N and O) <br>\n",
    "36) SpMax_B(m): Leading eigenvalue from Burden matrix weighted by mass <br>\n",
    "37) Psi_i_A: Intrinsic state pseudoconnectivity index - type S average <br>\n",
    "38) nN: Number of Nitrogen atoms <br>\n",
    "39) SM6_B(m): Spectral moment of order 6 from Burden matrix weighted by mass <br>\n",
    "40) nArCOOR: Number of esters (aromatic) <br>\n",
    "41) nX: Number of halogen atoms <br>\n",
    "42) experimental class: ready biodegradable (RB) and not ready biodegradable (NRB)<br>"
   ]
  },
  {
   "cell_type": "markdown",
   "metadata": {},
   "source": [
    "## Get the Data\n",
    "\n",
    "** Use pandas to read data as a dataframe called df.**"
   ]
  },
  {
   "cell_type": "code",
   "execution_count": 93,
   "metadata": {},
   "outputs": [
    {
     "data": {
      "text/html": [
       "<div>\n",
       "<style>\n",
       "    .dataframe thead tr:only-child th {\n",
       "        text-align: right;\n",
       "    }\n",
       "\n",
       "    .dataframe thead th {\n",
       "        text-align: left;\n",
       "    }\n",
       "\n",
       "    .dataframe tbody tr th {\n",
       "        vertical-align: top;\n",
       "    }\n",
       "</style>\n",
       "<table border=\"1\" class=\"dataframe\">\n",
       "  <thead>\n",
       "    <tr style=\"text-align: right;\">\n",
       "      <th></th>\n",
       "      <th>SpMax_L</th>\n",
       "      <th>J_Dz</th>\n",
       "      <th>nHM</th>\n",
       "      <th>F01[N-N]</th>\n",
       "      <th>F04[C-N]</th>\n",
       "      <th>NssssC</th>\n",
       "      <th>nCb-</th>\n",
       "      <th>C%</th>\n",
       "      <th>nCp</th>\n",
       "      <th>nO</th>\n",
       "      <th>...</th>\n",
       "      <th>C-026</th>\n",
       "      <th>F02[C-N]</th>\n",
       "      <th>nHDon</th>\n",
       "      <th>SpMax_B</th>\n",
       "      <th>Psi_i_A</th>\n",
       "      <th>nN</th>\n",
       "      <th>SM6_B</th>\n",
       "      <th>nArCOOR</th>\n",
       "      <th>nX</th>\n",
       "      <th>experimentalclass</th>\n",
       "    </tr>\n",
       "  </thead>\n",
       "  <tbody>\n",
       "    <tr>\n",
       "      <th>0</th>\n",
       "      <td>3.919</td>\n",
       "      <td>2.6909</td>\n",
       "      <td>0</td>\n",
       "      <td>0</td>\n",
       "      <td>0</td>\n",
       "      <td>0</td>\n",
       "      <td>0</td>\n",
       "      <td>31.4</td>\n",
       "      <td>2</td>\n",
       "      <td>0</td>\n",
       "      <td>...</td>\n",
       "      <td>0</td>\n",
       "      <td>0</td>\n",
       "      <td>0</td>\n",
       "      <td>2.949</td>\n",
       "      <td>1.591</td>\n",
       "      <td>0</td>\n",
       "      <td>7.253</td>\n",
       "      <td>0</td>\n",
       "      <td>0</td>\n",
       "      <td>RB</td>\n",
       "    </tr>\n",
       "    <tr>\n",
       "      <th>1</th>\n",
       "      <td>4.170</td>\n",
       "      <td>2.1144</td>\n",
       "      <td>0</td>\n",
       "      <td>0</td>\n",
       "      <td>0</td>\n",
       "      <td>0</td>\n",
       "      <td>0</td>\n",
       "      <td>30.8</td>\n",
       "      <td>1</td>\n",
       "      <td>1</td>\n",
       "      <td>...</td>\n",
       "      <td>0</td>\n",
       "      <td>0</td>\n",
       "      <td>0</td>\n",
       "      <td>3.315</td>\n",
       "      <td>1.967</td>\n",
       "      <td>0</td>\n",
       "      <td>7.257</td>\n",
       "      <td>0</td>\n",
       "      <td>0</td>\n",
       "      <td>RB</td>\n",
       "    </tr>\n",
       "    <tr>\n",
       "      <th>2</th>\n",
       "      <td>3.932</td>\n",
       "      <td>3.2512</td>\n",
       "      <td>0</td>\n",
       "      <td>0</td>\n",
       "      <td>0</td>\n",
       "      <td>0</td>\n",
       "      <td>0</td>\n",
       "      <td>26.7</td>\n",
       "      <td>2</td>\n",
       "      <td>4</td>\n",
       "      <td>...</td>\n",
       "      <td>0</td>\n",
       "      <td>0</td>\n",
       "      <td>1</td>\n",
       "      <td>3.076</td>\n",
       "      <td>2.417</td>\n",
       "      <td>0</td>\n",
       "      <td>7.601</td>\n",
       "      <td>0</td>\n",
       "      <td>0</td>\n",
       "      <td>RB</td>\n",
       "    </tr>\n",
       "    <tr>\n",
       "      <th>3</th>\n",
       "      <td>3.000</td>\n",
       "      <td>2.7098</td>\n",
       "      <td>0</td>\n",
       "      <td>0</td>\n",
       "      <td>0</td>\n",
       "      <td>0</td>\n",
       "      <td>0</td>\n",
       "      <td>20.0</td>\n",
       "      <td>0</td>\n",
       "      <td>2</td>\n",
       "      <td>...</td>\n",
       "      <td>0</td>\n",
       "      <td>0</td>\n",
       "      <td>1</td>\n",
       "      <td>3.046</td>\n",
       "      <td>5.000</td>\n",
       "      <td>0</td>\n",
       "      <td>6.690</td>\n",
       "      <td>0</td>\n",
       "      <td>0</td>\n",
       "      <td>RB</td>\n",
       "    </tr>\n",
       "    <tr>\n",
       "      <th>4</th>\n",
       "      <td>4.236</td>\n",
       "      <td>3.3944</td>\n",
       "      <td>0</td>\n",
       "      <td>0</td>\n",
       "      <td>0</td>\n",
       "      <td>0</td>\n",
       "      <td>0</td>\n",
       "      <td>29.4</td>\n",
       "      <td>2</td>\n",
       "      <td>4</td>\n",
       "      <td>...</td>\n",
       "      <td>0</td>\n",
       "      <td>0</td>\n",
       "      <td>0</td>\n",
       "      <td>3.351</td>\n",
       "      <td>2.405</td>\n",
       "      <td>0</td>\n",
       "      <td>8.003</td>\n",
       "      <td>0</td>\n",
       "      <td>0</td>\n",
       "      <td>RB</td>\n",
       "    </tr>\n",
       "  </tbody>\n",
       "</table>\n",
       "<p>5 rows × 42 columns</p>\n",
       "</div>"
      ],
      "text/plain": [
       "   SpMax_L    J_Dz  nHM  F01[N-N]  F04[C-N]  NssssC  nCb-    C%  nCp  nO  \\\n",
       "0    3.919  2.6909    0         0         0       0     0  31.4    2   0   \n",
       "1    4.170  2.1144    0         0         0       0     0  30.8    1   1   \n",
       "2    3.932  3.2512    0         0         0       0     0  26.7    2   4   \n",
       "3    3.000  2.7098    0         0         0       0     0  20.0    0   2   \n",
       "4    4.236  3.3944    0         0         0       0     0  29.4    2   4   \n",
       "\n",
       "         ...          C-026  F02[C-N]  nHDon  SpMax_B  Psi_i_A  nN  SM6_B  \\\n",
       "0        ...              0         0      0    2.949    1.591   0  7.253   \n",
       "1        ...              0         0      0    3.315    1.967   0  7.257   \n",
       "2        ...              0         0      1    3.076    2.417   0  7.601   \n",
       "3        ...              0         0      1    3.046    5.000   0  6.690   \n",
       "4        ...              0         0      0    3.351    2.405   0  8.003   \n",
       "\n",
       "   nArCOOR  nX  experimentalclass  \n",
       "0        0   0                 RB  \n",
       "1        0   0                 RB  \n",
       "2        0   0                 RB  \n",
       "3        0   0                 RB  \n",
       "4        0   0                 RB  \n",
       "\n",
       "[5 rows x 42 columns]"
      ]
     },
     "execution_count": 93,
     "metadata": {},
     "output_type": "execute_result"
    }
   ],
   "source": [
    "names = ['SpMax_L', 'J_Dz', 'nHM', 'F01[N-N]', 'F04[C-N]', 'NssssC', 'nCb-', 'C%','nCp','nO','F03[C-N]','SdssC','HyWi_B','LOC','SM6_L','F03[C-O]','Me','Mi','nN-N','nArNO2','nCRX3','SpPosA','nCIR','B01[C-Br]','B03[C-Cl]','N-073','SpMax_A','Psi_i_1d','B04[C-Br]','SdO','TI2_L','nCrt','C-026','F02[C-N]','nHDon','SpMax_B','Psi_i_A','nN','SM6_B','nArCOOR','nX','experimentalclass']\n",
    "df = pd.read_csv('bio-degradabale-data.csv',sep=\";\",names=names)\n",
    "df.head()\n"
   ]
  },
  {
   "cell_type": "code",
   "execution_count": 94,
   "metadata": {},
   "outputs": [
    {
     "name": "stdout",
     "output_type": "stream",
     "text": [
      "<class 'pandas.core.frame.DataFrame'>\n",
      "RangeIndex: 1055 entries, 0 to 1054\n",
      "Data columns (total 42 columns):\n",
      "SpMax_L              1055 non-null float64\n",
      "J_Dz                 1055 non-null float64\n",
      "nHM                  1055 non-null int64\n",
      "F01[N-N]             1055 non-null int64\n",
      "F04[C-N]             1055 non-null int64\n",
      "NssssC               1055 non-null int64\n",
      "nCb-                 1055 non-null int64\n",
      "C%                   1055 non-null float64\n",
      "nCp                  1055 non-null int64\n",
      "nO                   1055 non-null int64\n",
      "F03[C-N]             1055 non-null int64\n",
      "SdssC                1055 non-null float64\n",
      "HyWi_B               1055 non-null float64\n",
      "LOC                  1055 non-null float64\n",
      "SM6_L                1055 non-null float64\n",
      "F03[C-O]             1055 non-null int64\n",
      "Me                   1055 non-null float64\n",
      "Mi                   1055 non-null float64\n",
      "nN-N                 1055 non-null int64\n",
      "nArNO2               1055 non-null int64\n",
      "nCRX3                1055 non-null int64\n",
      "SpPosA               1055 non-null float64\n",
      "nCIR                 1055 non-null int64\n",
      "B01[C-Br]            1055 non-null int64\n",
      "B03[C-Cl]            1055 non-null int64\n",
      "N-073                1055 non-null int64\n",
      "SpMax_A              1055 non-null float64\n",
      "Psi_i_1d             1055 non-null float64\n",
      "B04[C-Br]            1055 non-null int64\n",
      "SdO                  1055 non-null float64\n",
      "TI2_L                1055 non-null float64\n",
      "nCrt                 1055 non-null int64\n",
      "C-026                1055 non-null int64\n",
      "F02[C-N]             1055 non-null int64\n",
      "nHDon                1055 non-null int64\n",
      "SpMax_B              1055 non-null float64\n",
      "Psi_i_A              1055 non-null float64\n",
      "nN                   1055 non-null int64\n",
      "SM6_B                1055 non-null float64\n",
      "nArCOOR              1055 non-null int64\n",
      "nX                   1055 non-null int64\n",
      "experimentalclass    1055 non-null object\n",
      "dtypes: float64(17), int64(24), object(1)\n",
      "memory usage: 346.2+ KB\n"
     ]
    }
   ],
   "source": [
    "# Check the data , there should be no missing values \n",
    "df.info()"
   ]
  },
  {
   "cell_type": "code",
   "execution_count": 95,
   "metadata": {
    "collapsed": true
   },
   "outputs": [],
   "source": [
    "# Check Distribution of Output Class"
   ]
  },
  {
   "cell_type": "code",
   "execution_count": 96,
   "metadata": {},
   "outputs": [
    {
     "data": {
      "text/html": [
       "<div>\n",
       "<style>\n",
       "    .dataframe thead tr:only-child th {\n",
       "        text-align: right;\n",
       "    }\n",
       "\n",
       "    .dataframe thead th {\n",
       "        text-align: left;\n",
       "    }\n",
       "\n",
       "    .dataframe tbody tr th {\n",
       "        vertical-align: top;\n",
       "    }\n",
       "</style>\n",
       "<table border=\"1\" class=\"dataframe\">\n",
       "  <thead>\n",
       "    <tr style=\"text-align: right;\">\n",
       "      <th></th>\n",
       "      <th>SpMax_L</th>\n",
       "      <th>J_Dz</th>\n",
       "      <th>nHM</th>\n",
       "      <th>F01[N-N]</th>\n",
       "      <th>F04[C-N]</th>\n",
       "      <th>NssssC</th>\n",
       "      <th>nCb-</th>\n",
       "      <th>C%</th>\n",
       "      <th>nCp</th>\n",
       "      <th>nO</th>\n",
       "      <th>...</th>\n",
       "      <th>nCrt</th>\n",
       "      <th>C-026</th>\n",
       "      <th>F02[C-N]</th>\n",
       "      <th>nHDon</th>\n",
       "      <th>SpMax_B</th>\n",
       "      <th>Psi_i_A</th>\n",
       "      <th>nN</th>\n",
       "      <th>SM6_B</th>\n",
       "      <th>nArCOOR</th>\n",
       "      <th>nX</th>\n",
       "    </tr>\n",
       "    <tr>\n",
       "      <th>experimentalclass</th>\n",
       "      <th></th>\n",
       "      <th></th>\n",
       "      <th></th>\n",
       "      <th></th>\n",
       "      <th></th>\n",
       "      <th></th>\n",
       "      <th></th>\n",
       "      <th></th>\n",
       "      <th></th>\n",
       "      <th></th>\n",
       "      <th></th>\n",
       "      <th></th>\n",
       "      <th></th>\n",
       "      <th></th>\n",
       "      <th></th>\n",
       "      <th></th>\n",
       "      <th></th>\n",
       "      <th></th>\n",
       "      <th></th>\n",
       "      <th></th>\n",
       "      <th></th>\n",
       "    </tr>\n",
       "  </thead>\n",
       "  <tbody>\n",
       "    <tr>\n",
       "      <th>NRB</th>\n",
       "      <td>699</td>\n",
       "      <td>699</td>\n",
       "      <td>699</td>\n",
       "      <td>699</td>\n",
       "      <td>699</td>\n",
       "      <td>699</td>\n",
       "      <td>699</td>\n",
       "      <td>699</td>\n",
       "      <td>699</td>\n",
       "      <td>699</td>\n",
       "      <td>...</td>\n",
       "      <td>699</td>\n",
       "      <td>699</td>\n",
       "      <td>699</td>\n",
       "      <td>699</td>\n",
       "      <td>699</td>\n",
       "      <td>699</td>\n",
       "      <td>699</td>\n",
       "      <td>699</td>\n",
       "      <td>699</td>\n",
       "      <td>699</td>\n",
       "    </tr>\n",
       "    <tr>\n",
       "      <th>RB</th>\n",
       "      <td>356</td>\n",
       "      <td>356</td>\n",
       "      <td>356</td>\n",
       "      <td>356</td>\n",
       "      <td>356</td>\n",
       "      <td>356</td>\n",
       "      <td>356</td>\n",
       "      <td>356</td>\n",
       "      <td>356</td>\n",
       "      <td>356</td>\n",
       "      <td>...</td>\n",
       "      <td>356</td>\n",
       "      <td>356</td>\n",
       "      <td>356</td>\n",
       "      <td>356</td>\n",
       "      <td>356</td>\n",
       "      <td>356</td>\n",
       "      <td>356</td>\n",
       "      <td>356</td>\n",
       "      <td>356</td>\n",
       "      <td>356</td>\n",
       "    </tr>\n",
       "  </tbody>\n",
       "</table>\n",
       "<p>2 rows × 41 columns</p>\n",
       "</div>"
      ],
      "text/plain": [
       "                   SpMax_L  J_Dz  nHM  F01[N-N]  F04[C-N]  NssssC  nCb-   C%  \\\n",
       "experimentalclass                                                              \n",
       "NRB                    699   699  699       699       699     699   699  699   \n",
       "RB                     356   356  356       356       356     356   356  356   \n",
       "\n",
       "                   nCp   nO ...   nCrt  C-026  F02[C-N]  nHDon  SpMax_B  \\\n",
       "experimentalclass           ...                                           \n",
       "NRB                699  699 ...    699    699       699    699      699   \n",
       "RB                 356  356 ...    356    356       356    356      356   \n",
       "\n",
       "                   Psi_i_A   nN  SM6_B  nArCOOR   nX  \n",
       "experimentalclass                                     \n",
       "NRB                    699  699    699      699  699  \n",
       "RB                     356  356    356      356  356  \n",
       "\n",
       "[2 rows x 41 columns]"
      ]
     },
     "execution_count": 96,
     "metadata": {},
     "output_type": "execute_result"
    }
   ],
   "source": [
    "df.groupby('experimentalclass').count()"
   ]
  },
  {
   "cell_type": "markdown",
   "metadata": {},
   "source": [
    "Get the name of features in an array"
   ]
  },
  {
   "cell_type": "code",
   "execution_count": 97,
   "metadata": {},
   "outputs": [
    {
     "name": "stdout",
     "output_type": "stream",
     "text": [
      "['SpMax_L', 'J_Dz', 'nHM', 'F01[N-N]', 'F04[C-N]', 'NssssC', 'nCb-', 'C%', 'nCp', 'nO', 'F03[C-N]', 'SdssC', 'HyWi_B', 'LOC', 'SM6_L', 'F03[C-O]', 'Me', 'Mi', 'nN-N', 'nArNO2', 'nCRX3', 'SpPosA', 'nCIR', 'B01[C-Br]', 'B03[C-Cl]', 'N-073', 'SpMax_A', 'Psi_i_1d', 'B04[C-Br]', 'SdO', 'TI2_L', 'nCrt', 'C-026', 'F02[C-N]', 'nHDon', 'SpMax_B', 'Psi_i_A', 'nN', 'SM6_B', 'nArCOOR', 'nX']\n"
     ]
    }
   ],
   "source": [
    "feature_names = names[0:-1]\n",
    "print (feature_names)"
   ]
  },
  {
   "cell_type": "markdown",
   "metadata": {},
   "source": [
    "#### Convert experimental class  column to 1/0 and store in new column target\n"
   ]
  },
  {
   "cell_type": "code",
   "execution_count": 98,
   "metadata": {
    "collapsed": true
   },
   "outputs": [],
   "source": [
    "from sklearn.preprocessing import LabelEncoder"
   ]
  },
  {
   "cell_type": "code",
   "execution_count": 99,
   "metadata": {
    "collapsed": true
   },
   "outputs": [],
   "source": [
    "# # Encode label diagnosis\n",
    "# # RB -> 1\n",
    "# # NRB -> 0"
   ]
  },
  {
   "cell_type": "code",
   "execution_count": 100,
   "metadata": {},
   "outputs": [],
   "source": [
    "# Get All rows, but only last column\n",
    "target_data=df[\"experimentalclass\"]\n",
    "\n",
    "\n",
    "encoder = LabelEncoder()\n",
    "target_data = encoder.fit_transform(target_data)\n",
    "#print (target_data)"
   ]
  },
  {
   "cell_type": "markdown",
   "metadata": {},
   "source": [
    "#### Store the encoded column in dataframe and drop the diagnosis column for simpilcity"
   ]
  },
  {
   "cell_type": "code",
   "execution_count": 101,
   "metadata": {},
   "outputs": [],
   "source": [
    "df.drop([\"experimentalclass\"],axis = 1, inplace = True)"
   ]
  },
  {
   "cell_type": "markdown",
   "metadata": {},
   "source": [
    "## Ada Boosting"
   ]
  },
  {
   "cell_type": "code",
   "execution_count": 102,
   "metadata": {
    "collapsed": true
   },
   "outputs": [],
   "source": [
    "from sklearn.ensemble import AdaBoostClassifier #For Classification\n",
    "from sklearn.ensemble import AdaBoostRegressor #For Regression\n",
    "from sklearn.tree import DecisionTreeClassifier"
   ]
  },
  {
   "cell_type": "code",
   "execution_count": 103,
   "metadata": {},
   "outputs": [],
   "source": [
    "from sklearn import model_selection"
   ]
  },
  {
   "cell_type": "code",
   "execution_count": 104,
   "metadata": {
    "collapsed": true
   },
   "outputs": [],
   "source": [
    "random_state = 101\n",
    "kfold = model_selection.KFold(n_splits=5, random_state=100)"
   ]
  },
  {
   "cell_type": "markdown",
   "metadata": {},
   "source": [
    "#### In case of Ada Boosting, result will change based on number of estimators"
   ]
  },
  {
   "cell_type": "code",
   "execution_count": 105,
   "metadata": {},
   "outputs": [],
   "source": [
    "def get_result_score(num_trees):\n",
    "    model = AdaBoostClassifier(n_estimators=num_trees, random_state=random_state)\n",
    "    results = model_selection.cross_val_score(model, df, target_data, cv=kfold)\n",
    "    return results.mean()"
   ]
  },
  {
   "cell_type": "markdown",
   "metadata": {},
   "source": [
    "** Compute the the mean score for different values of n_estimators**"
   ]
  },
  {
   "cell_type": "code",
   "execution_count": 109,
   "metadata": {},
   "outputs": [
    {
     "name": "stdout",
     "output_type": "stream",
     "text": [
      "Score for 50 count is 0.797156 :\n",
      "Score for 75 count is 0.810427 :\n",
      "Score for 100 count is 0.811374 :\n",
      "Score for 150 count is 0.822749 :\n",
      "Score for 200 count is 0.813270 :\n",
      "Score for 250 count is 0.813270 :\n",
      "Score for 300 count is 0.805687 :\n"
     ]
    }
   ],
   "source": [
    "num_tree_list = [50,75,100,150,200,250,300]\n",
    "for num_tree_count in num_tree_list:\n",
    "    score = get_result_score(num_tree_count)\n",
    "    print (\"Score for {:d} count is {:f} :\".format( num_tree_count,score))\n"
   ]
  },
  {
   "cell_type": "markdown",
   "metadata": {},
   "source": [
    "# End of Case Study"
   ]
  }
 ],
 "metadata": {
  "kernelspec": {
   "display_name": "Python 3",
   "language": "python",
   "name": "python3"
  },
  "language_info": {
   "codemirror_mode": {
    "name": "ipython",
    "version": 3
   },
   "file_extension": ".py",
   "mimetype": "text/x-python",
   "name": "python",
   "nbconvert_exporter": "python",
   "pygments_lexer": "ipython3",
   "version": "3.6.1"
  }
 },
 "nbformat": 4,
 "nbformat_minor": 1
}
