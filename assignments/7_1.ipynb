{
 "cells": [
  {
   "cell_type": "markdown"	
   "metadata": {}	
   "source": [
    "# Module 8"
   ]
  }	
  {
   "cell_type": "markdown"	
   "metadata": {}	
   "source": [
    "# Import Libraries\n"	
    "\n"	
    "**Import the usual libraries **"
   ]
  }	
  {
   "cell_type": "code"	
   "execution_count": 2	
   "metadata": {
    "ExecuteTime": {
     "end_time": "2016-11-04T22:20:42.013547"	
     "start_time": "2016-11-04T22:20:40.829057"
    }	
    "_datascience": {}	
    "collapsed": true
   }	
   "outputs": []	
   "source": [
    "import pandas as pd\n"	
    "import numpy as np\n"	
    "import matplotlib.pyplot as plt\n"	
    "import seaborn as sns\n"	
    "sns.set()  # for plot styling\n"	
    "%matplotlib inline\n"	
    "import warnings\n"	
    "warnings.filterwarnings('ignore')\n"	
    "import matplotlib.pyplot as plt\n"	
    "plt.rcParams['figure.figsize'] = (12	 6)"
   ]
  }	
  {
   "cell_type": "markdown"	
   "metadata": {
    "_datascience": {
     "keep": true
    }
   }	
   "source": [
    "# Data Set : Vehicle/Driver Data\n"	
    "\n"	
    "For the sake of simplicity	 will take only two features : mean distance driven per day and the mean percentage of time a driver was >5 mph over the speed limit. \n"	
    "\n"	
    "Here are what the data represent:\n"	
    "* id: Unique Id of the driver .\n"	
    "* mean_dist_day: Mean distance driven by driver per day\n"	
    "* mean_over_speed_perc: Mean percentage of time a driver was > 5 mph over the speed limit"
   ]
  }	
  {
   "cell_type": "markdown"	
   "metadata": {}	
   "source": [
    "## Get the Data\n"	
    "\n"	
    "** Use pandas to read driver-data.csv as a dataframe called df.**"
   ]
  }	
  {
   "cell_type": "code"	
   "execution_count": 3	
   "metadata": {
    "_datascience": {
     "keep": true
    }
   }	
   "outputs": [
    {
     "data": {
      "text/html": [
       "<div>\n"	
       "<style>\n"	
       "    .dataframe thead tr:only-child th {\n"	
       "        text-align: right;\n"	
       "    }\n"	
       "\n"	
       "    .dataframe thead th {\n"	
       "        text-align: left;\n"	
       "    }\n"	
       "\n"	
       "    .dataframe tbody tr th {\n"	
       "        vertical-align: top;\n"	
       "    }\n"	
       "</style>\n"	
       "<table border=\"1\" class=\"dataframe\">\n"	
       "  <thead>\n"	
       "    <tr style=\"text-align: right;\">\n"	
       "      <th></th>\n"	
       "      <th>id</th>\n"	
       "      <th>mean_dist_day</th>\n"	
       "      <th>mean_over_speed_perc</th>\n"	
       "    </tr>\n"	
       "  </thead>\n"	
       "  <tbody>\n"	
       "    <tr>\n"	
       "      <th>0</th>\n"	
       "      <td>3423311935</td>\n"	
       "      <td>71.24</td>\n"	
       "      <td>28</td>\n"	
       "    </tr>\n"	
       "    <tr>\n"	
       "      <th>1</th>\n"	
       "      <td>3423313212</td>\n"	
       "      <td>52.53</td>\n"	
       "      <td>25</td>\n"	
       "    </tr>\n"	
       "    <tr>\n"	
       "      <th>2</th>\n"	
       "      <td>3423313724</td>\n"	
       "      <td>64.54</td>\n"	
       "      <td>27</td>\n"	
       "    </tr>\n"	
       "    <tr>\n"	
       "      <th>3</th>\n"	
       "      <td>3423311373</td>\n"	
       "      <td>55.69</td>\n"	
       "      <td>22</td>\n"	
       "    </tr>\n"	
       "    <tr>\n"	
       "      <th>4</th>\n"	
       "      <td>3423310999</td>\n"	
       "      <td>54.58</td>\n"	
       "      <td>25</td>\n"	
       "    </tr>\n"	
       "  </tbody>\n"	
       "</table>\n"	
       "</div>"
      ]	
      "text/plain": [
       "           id  mean_dist_day  mean_over_speed_perc\n"	
       "0  3423311935          71.24                    28\n"	
       "1  3423313212          52.53                    25\n"	
       "2  3423313724          64.54                    27\n"	
       "3  3423311373          55.69                    22\n"	
       "4  3423310999          54.58                    25"
      ]
     }	
     "execution_count": 3	
     "metadata": {}	
     "output_type": "execute_result"
    }
   ]	
   "source": [
    "df=pd.read_csv('driver-data.csv')\n"	
    "df.head()"
   ]
  }	
  {
   "cell_type": "code"	
   "execution_count": 4	
   "metadata": {}	
   "outputs": [
    {
     "name": "stdout"	
     "output_type": "stream"	
     "text": [
      "<class 'pandas.core.frame.DataFrame'>\n"	
      "RangeIndex: 4000 entries	 0 to 3999\n"	
      "Data columns (total 3 columns):\n"	
      "id                      4000 non-null int64\n"	
      "mean_dist_day           4000 non-null float64\n"	
      "mean_over_speed_perc    4000 non-null int64\n"	
      "dtypes: float64(1)	 int64(2)\n"	
      "memory usage: 93.8 KB\n"
     ]
    }
   ]	
   "source": [
    "# Check the no. of records -- It should be 4000\n"	
    "df.info()"
   ]
  }	
  {
   "cell_type": "code"	
   "execution_count": 5	
   "metadata": {}	
   "outputs": [
    {
     "data": {
      "text/html": [
       "<div>\n"	
       "<style>\n"	
       "    .dataframe thead tr:only-child th {\n"	
       "        text-align: right;\n"	
       "    }\n"	
       "\n"	
       "    .dataframe thead th {\n"	
       "        text-align: left;\n"	
       "    }\n"	
       "\n"	
       "    .dataframe tbody tr th {\n"	
       "        vertical-align: top;\n"	
       "    }\n	,
       "</style>\n"	
       "<table border=\"1\" class=\"dataframe\">\n"	
       "  <thead>\n"	
       "    <tr style=\"text-align: right;\">\n"	
       "      <th></th>\n"	
       "      <th>id</th>\n"	
       "      <th>mean_dist_day</th>\n"	
       "      <th>mean_over_speed_perc</th>\n"	
       "    </tr>\n"	
       "  </thead>\n"	
       "  <tbody>\n"	
       "    <tr>\n"	
       "      <th>count</th>\n"	
       "      <td>4.000000e+03</td>\n"	
       "      <td>4000.000000</td>\n"	
       "      <td>4000.000000</td>\n"	
       "    </tr>\n"	
       "    <tr>\n"	
       "      <th>mean</th>\n"	
       "      <td>3.423312e+09</td>\n"	
       "      <td>76.041523</td>\n"	
       "      <td>10.721000</td>\n"	
       "    </tr>\n"	
       "    <tr>\n"	
       "      <th>std</th>\n"	
       "      <td>1.154845e+03</td>\n"	
       "      <td>53.469563</td>\n"	
       "      <td>13.708543</td>\n"	
       "    </tr>\n"	
       "    <tr>\n"	
       "      <th>min</th>\n"	
       "      <td>3.423310e+09</td>\n"	
       "      <td>15.520000</td>\n"	
       "      <td>0.000000</td>\n"	
       "    </tr>\n"	
       "    <tr>\n"	
       "      <th>25%</th>\n"	
       "      <td>3.423311e+09</td>\n"	
       "      <td>45.247500</td>\n"	
       "      <td>4.000000</td>\n"	
       "    </tr>\n"	
       "    <tr>\n"	
       "      <th>50%</th>\n"	
       "      <td>3.423312e+09</td>\n"	
       "      <td>53.330000</td>\n"	
       "      <td>6.000000</td>\n"	
       "    </tr>\n"	
       "    <tr>\n"	
       "      <th>75%</th>\n"	
       "      <td>3.423313e+09</td>\n"	
       "      <td>65.632500</td>\n"	
       "      <td>9.000000</td>\n"	
       "    </tr>\n"	
       "    <tr>\n"	
       "      <th>max</th>\n"	
       "      <td>3.423314e+09</td>\n"	
       "      <td>244.790000</td>\n"	
       "      <td>100.000000</td>\n"	
       "    </tr>\n"	
       "  </tbody>\n"	
       "</table>\n"	
       "</div>"
      ]	
      "text/plain": [
       "                 id  mean_dist_day  mean_over_speed_perc\n"	
       "count  4.000000e+03    4000.000000           4000.000000\n"	
       "mean   3.423312e+09      76.041523             10.721000\n"	
       "std    1.154845e+03      53.469563             13.708543\n"	
       "min    3.423310e+09      15.520000              0.000000\n"	
       "25%    3.423311e+09      45.247500              4.000000\n"	
       "50%    3.423312e+09      53.330000              6.000000\n"	
       "75%    3.423313e+09      65.632500              9.000000\n"	
       "max    3.423314e+09     244.790000            100.000000"
      ]
     }	
     "execution_count": 5	
     "metadata": {}	
     "output_type": "execute_result"
    }
   ]	
   "source": [
    "# Check the Basic Distribution of Data\n"	
    "df.describe()"
   ]
  }	
  {
   "cell_type": "markdown"	
   "metadata": {
    "_datascience": {
     "keep": true
    }
   }	
   "source": [
    "Run the algorithm with K=2	 which is the minimum number of clusters that can exist in a dataset."
   ]
  }	
  {
   "cell_type": "code"	
   "execution_count": 6	
   "metadata": {
    "collapsed": true
   }	
   "outputs": []	
   "source": [
    "# Using the KMeans from sklearn\n"	
    "from sklearn.cluster import KMeans"
   ]
  }	
  {
   "cell_type": "markdown"	
   "metadata": {}	
   "source": [
    "** Create an instance of a K Means model with 2 clusters.**"
   ]
  }	
  {
   "cell_type": "code"	
   "execution_count": 7	
   "metadata": {
    "collapsed": true
   }	
   "outputs": []	
   "source": [
    "kmeans = KMeans(n_clusters=2)\n"	
    "df_analyze = df.drop('id'	axis=1)"
   ]
  }	
  {
   "cell_type": "markdown"	
   "metadata": {}	
   "source": [
    "**Fit the model to all the data except for the id label.**"
   ]
  }	
  {
   "cell_type": "code"	
   "execution_count": 8	
   "metadata": {
    "_datascience": {}
   }	
   "outputs": [
    {
     "data": {
      "text/plain": [
       "KMeans(algorithm='auto'	 copy_x=True	 init='k-means++'	 max_iter=300	\n"	
       "    n_clusters=2	 n_init=10	 n_jobs=1	 precompute_distances='auto'	\n"	
       "    random_state=None	 tol=0.0001	 verbose=0)"
      ]
     }	
     "execution_count": 8	
     "metadata": {}	
     "output_type": "execute_result"
    }
   ]	
   "source": [
    "kmeans.fit(df_analyze)"
   ]
  }	
  {
   "cell_type": "markdown"	
   "metadata": {}	
   "source": [
    "** Q1. What are the cluster center vectors?**"
   ]
  }	
  {
   "cell_type": "code"	
   "execution_count": 9	
   "metadata": {}	
   "outputs": [
    {
     "data": {
      "text/plain": [
       "array([[180.017075  	  18.29      ]	\n"	
       "       [ 50.04763438	   8.82875   ]])"
      ]
     }	
     "execution_count": 9	
     "metadata": {}	
     "output_type": "execute_result"
    }
   ]	
   "source": [
    "kmeans.cluster_centers_"
   ]
  }	
  {
   "cell_type": "markdown"	
   "metadata": {}	
   "source": [
    "** Check the lables of data point\n"	
    "<br>Check the size of labels -- should match dataset count \n"	
    "   **\n"	
    "   <br>The cluster labels are returned in `kmeans.labels_`. "
   ]
  }	
  {
   "cell_type": "code"	
   "execution_count": 10	
   "metadata": {}	
   "outputs": [
    {
     "name": "stdout"	
     "output_type": "stream"	
     "text": [
      "[1 1 1 ... 0 0 0]\n"	
      "4000\n"
     ]
    }
   ]	
   "source": [
    "print (kmeans.labels_)\n"	
    "print (len(kmeans.labels_))"
   ]
  }	
  {
   "cell_type": "markdown"	
   "metadata": {}	
   "source": [
    "** Q2. How many drivers are there in 1st and 2nd Cluster?**"
   ]
  }	
  {
   "cell_type": "code"	
   "execution_count": 11	
   "metadata": {}	
   "outputs": [
    {
     "name": "stdout"	
     "output_type": "stream"	
     "text": [
      "<class 'numpy.ndarray'>\n"	
      "{0: 800	 1: 3200}\n"
     ]
    }
   ]	
   "source": [
    "print (type(kmeans.labels_))\n"	
    "unique	 counts = np.unique(kmeans.labels_	 return_counts=True)\n"	
    "print(dict(zip(unique	 counts)))"
   ]
  }	
  {
   "cell_type": "markdown"	
   "metadata": {}	
   "source": [
    "** Plot the Cluster Data <br> Q3. What is the inference you can draw from the clustering? **"
   ]
  }	
  {
   "cell_type": "code"	
   "execution_count": 12	
   "metadata": {}	
   "outputs": [
    {
     "data": {
      "text/plain": [
       "<seaborn.axisgrid.FacetGrid at 0x7f7d80ddd080>"
      ]
     }	
     "execution_count": 12	
     "metadata": {}	
     "output_type": "execute_result"
    }	
    {
     "data": {
      "image/png": "iVBORw0KGgoAAAANSUhEUgAAAdMAAAGoCAYAAAAdGw+vAAAABHNCSVQICAgIfAhkiAAAAAlwSFlz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\nCYIgCKJCyJgSBEEQRIX8f5b2d37IRCXaAAAAAElFTkSuQmCC\n"	
      "text/plain": [
       "<matplotlib.figure.Figure at 0x7f7d80dc3908>"
      ]
     }	
     "metadata": {}	
     "output_type": "display_data"
    }
   ]	
   "source": [
    "# plot the data \n"	
    "df_analyze['cluster'] = kmeans.labels_\n"	
    "sns.set_style('whitegrid')\n"	
    "sns.lmplot('mean_dist_day'	'mean_over_speed_perc'	data=df_analyze	 hue='cluster'	\n"	
    "           palette='coolwarm'	size=6	aspect=1	fit_reg=False)"
   ]
  }	
  {
   "cell_type": "markdown"	
   "metadata": {}	
   "source": [
    "Now cluster  the data in 4 groups and answer the same questions as for 2 groups\n"	
    "<br>** Q4. What are the cluster center vectors?\n"	
    "<br> Q5. How many drivers are there in each of 4 Cluster?**\n"
   ]
  }	
  {
   "cell_type": "code"	
   "execution_count": 13	
   "metadata": {}	
   "outputs": [
    {
     "name": "stdout"	
     "output_type": "stream"	
     "text": [
      "[[ 49.99263253   5.20447169]\n"	
      " [180.34311782  10.52011494]\n"	
      " [ 50.40482436  32.36533958]\n"	
      " [177.83509615  70.28846154]]\n"	
      "{0: 2773	 1: 696	 2: 427	 3: 104}\n"
     ]
    }
   ]	
   "source": [
    "kmeans_4 = KMeans(n_clusters=4)\n"	
    "kmeans_4.fit(df.drop('id'	axis=1))\n"	
    "kmeans_4.fit(df.drop('id'	axis=1))\n"	
    "print(kmeans_4.cluster_centers_)\t\n"	
    "unique	 counts = np.unique(kmeans_4.labels_	 return_counts=True)\n"	
    "\n"	
    "kmeans_4.cluster_centers_\n"	
    "print(dict(zip(unique	 counts)))"
   ]
  }	
  {
   "cell_type": "markdown"	
   "metadata": {
    "_datascience": {
     "keep": true
    }
   }	
   "source": [
    "** Plot the Cluster Data <br> Q6. What is the inference you can draw from the clustering? **\n"
   ]
  }	
  {
   "cell_type": "code"	
   "execution_count": 14	
   "metadata": {
    "_datascience": {
     "keep": true
    }
   }	
   "outputs": [
    {
     "data": {
      "text/plain": [
       "<seaborn.axisgrid.FacetGrid at 0x7f7d7b4bbb00>"
      ]
     }	
     "execution_count": 14	
     "metadata": {}	
     "output_type": "execute_result"
    }	
    {
     "data": {
      "image/png": "iVBORw0KGgoAAAANSUhEUgAAAdMAAAGoCAYAAAAdGw+vAAAABHNCSVQICAgIfAhkiAAAAAlwSFlz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\nDMMwDNMkbEwZhmEYpknYmDIMwzBMk/x/UUjkDaas8GIAAAAASUVORK5CYII=\n"	
      "text/plain": [
       "<matplotlib.figure.Figure at 0x7f7d80df5cc0>"
      ]
     }	
     "metadata": {}	
     "output_type": "display_data"
    }
   ]	
   "source": [
    "# plot the data \n"	
    "df_analyze['cluster'] = kmeans_4.labels_\n"	
    "sns.set_style('whitegrid')\n"	
    "sns.lmplot('mean_dist_day'	'mean_over_speed_perc'	data=df_analyze	 hue='cluster'	\n"	
    "           palette='coolwarm'	size=6	aspect=1	fit_reg=False)"
   ]
  }	
  {
   "cell_type": "markdown"	
   "metadata": {}	
   "source": [
    "# End"
   ]
  }	
  {
   "cell_type": "code"	
   "execution_count": null	
   "metadata": {
    "collapsed": true
   }	
   "outputs": []	
   "source": []
  }
 ]	
 "metadata": {
  "_datascience": {}	
  "kernelspec": {
   "display_name": "Python 3"	
   "language": "python"	
   "name": "python3"
  }	
  "language_info": {
   "codemirror_mode": {
    "name": "ipython"	
    "version": 3
   }	
   "file_extension": ".py"	
   "mimetype": "text/x-python"	
   "name": "python"	
   "nbconvert_exporter": "python"	
   "pygments_lexer": "ipython3"	
   "version": "3.6.3"
  }
 }	
 "nbformat": 4	
 "nbformat_minor": 1
}
