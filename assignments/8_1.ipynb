{
 "cells": [
  {
   "cell_type": "code",
   "execution_count": 3,
   "metadata": {},
   "outputs": [
    {
     "name": "stdout",
     "output_type": "stream",
     "text": [
      "The Hurt Locker 97.0\n"
     ]
    }
   ],
   "source": [
    "#Q1\n",
    "import pandas\n",
    "\n",
    "frame = pandas.read_csv('HollywoodMovies.csv', delimiter=',')\n",
    "selected_columns = frame.loc[:, [\"Movie\", \"RottenTomatoes\", \"Story\"]]\n",
    "\n",
    "highest_rated = \"\"\n",
    "rating = 0\n",
    "\n",
    "for i in range(0, 970):\n",
    "    if selected_columns.loc[i][\"Story\"] == \"Quest\" and selected_columns.loc[i][\"RottenTomatoes\"] > rating:\n",
    "        rating = selected_columns.loc[i][\"RottenTomatoes\"]\n",
    "        highest_rated = selected_columns.loc[i][\"Movie\"]\n",
    "\n",
    "print(highest_rated, rating)\n"
   ]
  },
  {
   "cell_type": "code",
   "execution_count": 4,
   "metadata": {},
   "outputs": [
    {
     "name": "stdout",
     "output_type": "stream",
     "text": [
      "{'Action': 166, 'Animation': 51, 'Adventure': 30, 'Thriller': 35, 'Comedy': 177, 'Musical': 4, 'Drama': 109, 'Biography': 14, 'Horror': 52, 'Romance': 20, 'Fantasy': 6, 'Documentary': 7, 'Crime': 15, 'nan': 1, 'Mystery': 5}\n"
     ]
    }
   ],
   "source": [
    "#Q2\n",
    "import pandas\n",
    "\n",
    "frame = pandas.read_csv('HollywoodMovies.csv', delimiter=',')\n",
    "genre = frame.loc[:, [\"Genre\"]]\n",
    "\n",
    "frequency = dict()\n",
    "for i in range(0, 970):\n",
    "    if genre.loc[i][0] in frequency:\n",
    "        frequency[str(genre.loc[i][0])] += 1\n",
    "    else:\n",
    "        frequency[str(genre.loc[i][0])] = 1\n",
    "print(frequency)\n"
   ]
  },
  {
   "cell_type": "code",
   "execution_count": 5,
   "metadata": {},
   "outputs": [
    {
     "name": "stdout",
     "output_type": "stream",
     "text": [
      "3      300.0\n",
      "468    260.0\n",
      "0      258.0\n",
      "778    250.0\n",
      "241    250.0\n",
      "586    250.0\n",
      "710    250.0\n",
      "239    237.0\n",
      "99     230.0\n",
      "770    230.0\n",
      "727    225.0\n",
      "826    225.0\n",
      "831    225.0\n",
      "726    220.0\n",
      "851    215.0\n",
      "835    215.0\n",
      "240    210.0\n",
      "666    209.0\n",
      "253    200.0\n",
      "499    200.0\n",
      "104    200.0\n",
      "261    200.0\n",
      "259    200.0\n",
      "785    200.0\n",
      "455    200.0\n",
      "551    200.0\n",
      "422    200.0\n",
      "529    200.0\n",
      "829    200.0\n",
      "96     200.0\n",
      "       ...  \n",
      "745      NaN\n",
      "747      NaN\n",
      "748      NaN\n",
      "751      NaN\n",
      "753      NaN\n",
      "755      NaN\n",
      "756      NaN\n",
      "759      NaN\n",
      "762      NaN\n",
      "767      NaN\n",
      "771      NaN\n",
      "775      NaN\n",
      "776      NaN\n",
      "777      NaN\n",
      "793      NaN\n",
      "794      NaN\n",
      "795      NaN\n",
      "805      NaN\n",
      "808      NaN\n",
      "810      NaN\n",
      "931      NaN\n",
      "938      NaN\n",
      "943      NaN\n",
      "946      NaN\n",
      "953      NaN\n",
      "957      NaN\n",
      "962      NaN\n",
      "963      NaN\n",
      "965      NaN\n",
      "967      NaN\n",
      "Name: Budget, Length: 970, dtype: float64\n"
     ]
    }
   ],
   "source": [
    "#Q3\n",
    "import pandas\n",
    "\n",
    "frame = pandas.read_csv('HollywoodMovies.csv', delimiter=',')\n",
    "sorted_frame = frame.sort_values(by='Budget', ascending=False)\n",
    "print(sorted_frame.loc[:, \"Budget\"])\n"
   ]
  },
  {
   "cell_type": "code",
   "execution_count": 6,
   "metadata": {},
   "outputs": [
    {
     "data": {
      "image/png": "[encoded data removed]",
      "text/plain": [
       "<matplotlib.figure.Figure at 0x7f35654dfc88>"
      ]
     },
     "metadata": {},
     "output_type": "display_data"
    }
   ],
   "source": [
    "#Q4\n",
    "import matplotlib.pyplot as plt, pandas\n",
    "\n",
    "frame = pandas.read_csv('HollywoodMovies.csv', delimiter=',')\n",
    "\n",
    "selected = frame.loc[:, [\"Profitability\", \"RottenTomatoes\"]]\n",
    "\n",
    "plt.scatter(selected[\"Profitability\"], selected[\"RottenTomatoes\"])\n",
    "plt.xlim(0, 200)\n",
    "plt.show()\n"
   ]
  },
  {
   "cell_type": "code",
   "execution_count": 7,
   "metadata": {},
   "outputs": [
    {
     "name": "stdout",
     "output_type": "stream",
     "text": [
      "  first_name last_name  age preTestScore postTestScore\n",
      "0      Jason    Miller   42            4        25,000\n",
      "1      Molly  Jacobson   52           24        94,000\n",
      "2       Tina         .   36           31            57\n",
      "3       Jake    Milner   24            .            62\n",
      "4        Amy     Cooze   73            .            70\n"
     ]
    }
   ],
   "source": [
    "#Q5\n",
    "#Answer 5.1:\n",
    "import pandas as pd\n",
    "raw_data = {'first_name': ['Jason', 'Molly', 'Tina', 'Jake', 'Amy'],\n",
    "        'last_name': ['Miller', 'Jacobson', \".\", 'Milner', 'Cooze'],\n",
    "        'age': [42, 52, 36, 24, 73],\n",
    "        'preTestScore': [4, 24, 31, \".\", \".\"],\n",
    "        'postTestScore': [\"25,000\", \"94,000\", 57, 62, 70]}\n",
    "df = pd.DataFrame(raw_data, columns = ['first_name', 'last_name', 'age', 'preTestScore', 'postTestScore'])\n",
    "print(df)\n"
   ]
  },
  {
   "cell_type": "code",
   "execution_count": 8,
   "metadata": {
    "collapsed": true
   },
   "outputs": [],
   "source": [
    "#Answer 5.2:\n",
    "import pandas as pd\n",
    "raw_data = {'first_name': ['Jason', 'Molly', 'Tina', 'Jake', 'Amy'],\n",
    "        'last_name': ['Miller', 'Jacobson', \".\", 'Milner', 'Cooze'],\n",
    "        'age': [42, 52, 36, 24, 73],\n",
    "        'preTestScore': [4, 24, 31, \".\", \".\"],\n",
    "        'postTestScore': [\"25,000\", \"94,000\", 57, 62, 70]}\n",
    "df = pd.DataFrame(raw_data, columns = ['first_name', 'last_name', 'age', 'preTestScore', 'postTestScore'])\n",
    "df.to_csv('example.csv')\n"
   ]
  },
  {
   "cell_type": "code",
   "execution_count": 9,
   "metadata": {},
   "outputs": [
    {
     "name": "stdout",
     "output_type": "stream",
     "text": [
      "   Unnamed: 0 first_name last_name  age preTestScore postTestScore\n",
      "0           0      Jason    Miller   42            4        25,000\n",
      "1           1      Molly  Jacobson   52           24        94,000\n",
      "2           2       Tina         .   36           31            57\n",
      "3           3       Jake    Milner   24            .            62\n",
      "4           4        Amy     Cooze   73            .            70\n"
     ]
    }
   ],
   "source": [
    "#Answer 5.3:\n",
    "import pandas as pd\n",
    "df = pd.read_csv('example.csv')\n",
    "print(df)\n"
   ]
  },
  {
   "cell_type": "code",
   "execution_count": 10,
   "metadata": {},
   "outputs": [
    {
     "name": "stdout",
     "output_type": "stream",
     "text": [
      "     0           1          2    3             4              5\n",
      "0  NaN  first_name  last_name  age  preTestScore  postTestScore\n",
      "1  0.0       Jason     Miller   42             4         25,000\n",
      "2  1.0       Molly   Jacobson   52            24         94,000\n",
      "3  2.0        Tina          .   36            31             57\n",
      "4  3.0        Jake     Milner   24             .             62\n",
      "5  4.0         Amy      Cooze   73             .             70\n"
     ]
    }
   ],
   "source": [
    "#Answer 5.4:\n",
    "import pandas as pd\n",
    "df = pd.read_csv('example.csv', header=None)\n",
    "print(df)\n"
   ]
  },
  {
   "cell_type": "code",
   "execution_count": 11,
   "metadata": {},
   "outputs": [
    {
     "name": "stdout",
     "output_type": "stream",
     "text": [
      "                      UID  Age Pre-Test Score Post-Test Score\n",
      "First Name Last Name                                         \n",
      "first_name last_name  NaN  age   preTestScore   postTestScore\n",
      "Jason      Miller     0.0   42              4          25,000\n",
      "Molly      Jacobson   1.0   52             24          94,000\n",
      "Tina       .          2.0   36             31              57\n",
      "Jake       Milner     3.0   24              .              62\n",
      "Amy        Cooze      4.0   73              .              70\n"
     ]
    }
   ],
   "source": [
    "#Answer 5.5:\n",
    "import pandas as pd\n",
    "df = pd.read_csv('example.csv', index_col=['First Name', 'Last Name'], names=['UID', 'First Name', 'Last Name', 'Age', 'Pre-Test Score', 'Post-Test Score'])\n",
    "print(df)\n"
   ]
  },
  {
   "cell_type": "code",
   "execution_count": 12,
   "metadata": {},
   "outputs": [
    {
     "name": "stdout",
     "output_type": "stream",
     "text": [
      "   Unnamed: 0  first_name  last_name    age  preTestScore  postTestScore\n",
      "0       False       False      False  False         False          False\n",
      "1       False       False      False  False         False          False\n",
      "2       False       False       True  False         False          False\n",
      "3       False       False      False  False          True          False\n",
      "4       False       False      False  False          True          False\n"
     ]
    }
   ],
   "source": [
    "#Answer 5.6:\n",
    "import pandas as pd\n",
    "df = pd.read_csv('example.csv', na_values=['.'])\n",
    "print(pd.isnull(df))\n",
    "\n"
   ]
  },
  {
   "cell_type": "code",
   "execution_count": 13,
   "metadata": {},
   "outputs": [
    {
     "name": "stdout",
     "output_type": "stream",
     "text": [
      "   2  Tina       .  36 31  57\n",
      "0  3  Jake  Milner  24  .  62\n",
      "1  4   Amy   Cooze  73  .  70\n"
     ]
    }
   ],
   "source": [
    "#Answer 5.7:\n",
    "import pandas as pd\n",
    "df = pd.read_csv('example.csv', skiprows=3)\n",
    "print(df)\n"
   ]
  },
  {
   "cell_type": "code",
   "execution_count": 14,
   "metadata": {},
   "outputs": [
    {
     "name": "stdout",
     "output_type": "stream",
     "text": [
      "   Unnamed: 0 first_name last_name  age preTestScore  postTestScore\n",
      "0           0      Jason    Miller   42            4          25000\n",
      "1           1      Molly  Jacobson   52           24          94000\n",
      "2           2       Tina         .   36           31             57\n",
      "3           3       Jake    Milner   24            .             62\n",
      "4           4        Amy     Cooze   73            .             70\n"
     ]
    }
   ],
   "source": [
    "#Answer 5.8:\n",
    "import pandas as pd\n",
    "df = pd.read_csv('example.csv',  thousands=',')\n",
    "print(df)\n"
   ]
  },
  {
   "cell_type": "code",
   "execution_count": 15,
   "metadata": {},
   "outputs": [
    {
     "name": "stdout",
     "output_type": "stream",
     "text": [
      "0    amit\n",
      "1     bob\n",
      "2    kate\n",
      "3       a\n",
      "4       b\n",
      "5     NaN\n",
      "6     car\n",
      "7     dog\n",
      "8     cat\n",
      "dtype: object\n"
     ]
    }
   ],
   "source": [
    "#Q6\n",
    "#Answer 6.1 (a)\n",
    "\n",
    "import pandas as pd\n",
    "import numpy as np\n",
    "s = pd.Series(['Amit', 'Bob', 'Kate', 'A', 'b', np.nan, 'Car', 'dog', 'cat'])\n",
    "print(s.str.lower())\n"
   ]
  },
  {
   "cell_type": "code",
   "execution_count": 16,
   "metadata": {},
   "outputs": [
    {
     "name": "stdout",
     "output_type": "stream",
     "text": [
      "0    AMIT\n",
      "1     BOB\n",
      "2    KATE\n",
      "3       A\n",
      "4       B\n",
      "5     NaN\n",
      "6     CAR\n",
      "7     DOG\n",
      "8     CAT\n",
      "dtype: object\n"
     ]
    }
   ],
   "source": [
    "#Answer 6.1(b)\n",
    "import pandas as pd\n",
    "import numpy as np\n",
    "s = pd.Series(['Amit', 'Bob', 'Kate', 'A', 'b', np.nan, 'Car', 'dog', 'cat'])\n",
    "print(s.str.upper())\n",
    "\n"
   ]
  },
  {
   "cell_type": "code",
   "execution_count": 17,
   "metadata": {},
   "outputs": [
    {
     "name": "stdout",
     "output_type": "stream",
     "text": [
      "0    4.0\n",
      "1    3.0\n",
      "2    4.0\n",
      "3    1.0\n",
      "4    1.0\n",
      "5    NaN\n",
      "6    3.0\n",
      "7    3.0\n",
      "8    3.0\n",
      "dtype: float64\n"
     ]
    }
   ],
   "source": [
    "#Answer 6.1(c):\n",
    "\n",
    "import pandas as pd\n",
    "import numpy as np\n",
    "s = pd.Series(['Amit', 'Bob', 'Kate', 'A', 'b', np.nan, 'Car', 'dog', 'cat'])\n",
    "print(s.str.len())\n"
   ]
  },
  {
   "cell_type": "code",
   "execution_count": 18,
   "metadata": {},
   "outputs": [
    {
     "name": "stdout",
     "output_type": "stream",
     "text": [
      "Index(['Atul', 'John', 'jack', 'Sam'], dtype='object')\n"
     ]
    }
   ],
   "source": [
    "#Answer 6.2(a):\n",
    "import pandas as pd\n",
    "import numpy as np\n",
    "s = pd.Index([' Atul', 'John ', ' jack ', 'Sam'])\n",
    "print(s.str.strip())\n"
   ]
  },
  {
   "cell_type": "code",
   "execution_count": 19,
   "metadata": {},
   "outputs": [
    {
     "name": "stdout",
     "output_type": "stream",
     "text": [
      "Index(['Atul', 'John ', 'jack ', 'Sam'], dtype='object')\n"
     ]
    }
   ],
   "source": [
    "#Answer 6.2(b):\n",
    "import pandas as pd\n",
    "import numpy as np\n",
    "s = pd.Index([' Atul', 'John ', ' jack ', 'Sam'])\n",
    "print(s.str.lstrip())\n",
    "\n"
   ]
  },
  {
   "cell_type": "code",
   "execution_count": 20,
   "metadata": {},
   "outputs": [
    {
     "name": "stdout",
     "output_type": "stream",
     "text": [
      "Index([' Atul', 'John', ' jack', 'Sam'], dtype='object')\n"
     ]
    }
   ],
   "source": [
    "#Answer 6.2(c):\n",
    "import pandas as pd\n",
    "import numpy as np\n",
    "s = pd.Index([' Atul', 'John ', ' jack ', 'Sam'])\n",
    "print(s.str.rstrip())\n"
   ]
  },
  {
   "cell_type": "code",
   "execution_count": 21,
   "metadata": {},
   "outputs": [
    {
     "name": "stdout",
     "output_type": "stream",
     "text": [
      "0           [India, is, big]\n",
      "1     [Population, is, huge]\n",
      "2                        NaN\n",
      "3    [Has, diverse, culture]\n",
      "dtype: object\n"
     ]
    }
   ],
   "source": [
    "#Answer 6.3(a):\n",
    "\n",
    "import pandas as pd\n",
    "import numpy as np\n",
    "s = pd.Series(['India_is_big', 'Population_is_huge', np.nan, 'Has_diverse_culture'])\n",
    "print(s.str.split('_'))\n"
   ]
  },
  {
   "cell_type": "code",
   "execution_count": 22,
   "metadata": {},
   "outputs": [
    {
     "name": "stdout",
     "output_type": "stream",
     "text": [
      "0         is\n",
      "1         is\n",
      "2        NaN\n",
      "3    diverse\n",
      "dtype: object\n"
     ]
    }
   ],
   "source": [
    "#Answer 6.3(b):\n",
    "\n",
    "import pandas as pd\n",
    "import numpy as np\n",
    "s = pd.Series(['India_is_big', 'Population_is_huge', np.nan, 'Has_diverse_culture'])\n",
    "print(s.str.split('_').str.get(1))\n"
   ]
  },
  {
   "cell_type": "code",
   "execution_count": 23,
   "metadata": {},
   "outputs": [
    {
     "name": "stdout",
     "output_type": "stream",
     "text": [
      "            0        1        2\n",
      "0       India       is      big\n",
      "1  Population       is     huge\n",
      "2         NaN     None     None\n",
      "3         Has  diverse  culture\n"
     ]
    }
   ],
   "source": [
    "#Answer 6.3(c):\n",
    "import pandas as pd\n",
    "import numpy as np\n",
    "s = pd.Series(['India_is_big', 'Population_is_huge', np.nan, 'Has_diverse_culture'])\n",
    "print(s.str.split('_', expand=True))\n",
    "\n"
   ]
  },
  {
   "cell_type": "code",
   "execution_count": 24,
   "metadata": {},
   "outputs": [
    {
     "name": "stdout",
     "output_type": "stream",
     "text": [
      "0           A\n",
      "1           B\n",
      "2           C\n",
      "3    XX-XX bX\n",
      "4    XX-XX cX\n",
      "5            \n",
      "6         NaN\n",
      "7    XX-XX BA\n",
      "8      XX-XX \n",
      "9     XX-XX t\n",
      "dtype: object\n"
     ]
    }
   ],
   "source": [
    "#Answer 6.4\n",
    "\n",
    "import pandas as pd\n",
    "import numpy as np\n",
    "s = pd.Series(['A', 'B', 'C', 'AabX', 'BacX','', np.nan, 'CABA', 'dog', 'cat'])\n",
    "print(s.str.replace('^.a|dog', 'XX-XX ', case=False))\n",
    "\n"
   ]
  },
  {
   "cell_type": "code",
   "execution_count": 25,
   "metadata": {},
   "outputs": [
    {
     "name": "stdout",
     "output_type": "stream",
     "text": [
      "0        12\n",
      "1       -10\n",
      "2    10,000\n",
      "dtype: object\n"
     ]
    }
   ],
   "source": [
    "#Answer 6.5:\n",
    "import pandas as pd\n",
    "import numpy as np\n",
    "d = pd.Series(['12', '-$10', '$10,000'])\n",
    "print(d.str.replace('$', ''))\n"
   ]
  },
  {
   "cell_type": "code",
   "execution_count": 26,
   "metadata": {},
   "outputs": [
    {
     "name": "stdout",
     "output_type": "stream",
     "text": [
      "0     aidni 1998\n",
      "1    gib yrtnuoc\n",
      "2            NaN\n",
      "dtype: object\n"
     ]
    }
   ],
   "source": [
    "#Answer 6.6\n",
    "import pandas as pd\n",
    "import numpy as np\n",
    "pattern = r'[a-z]+'\n",
    "replacement = lambda m: m.group(0)[::-1]\n",
    "s=pd.Series(['india 1998', 'big country', np.nan]).str.replace(pattern, replacement)\n",
    "print(s)\n"
   ]
  },
  {
   "cell_type": "code",
   "execution_count": 27,
   "metadata": {},
   "outputs": [
    {
     "name": "stdout",
     "output_type": "stream",
     "text": [
      "0    False\n",
      "1    False\n",
      "2     True\n",
      "3     True\n",
      "4     True\n",
      "dtype: bool\n"
     ]
    }
   ],
   "source": [
    "#Answer 6.7:\n",
    "\n",
    "import pandas as pd\n",
    "pattern = r'[0-9][a-z]'\n",
    "print(pd.Series(['1', '2', '1a', '2b', '2003c']).str.contains(pattern))\n",
    "\n"
   ]
  },
  {
   "cell_type": "code",
   "execution_count": 28,
   "metadata": {},
   "outputs": [
    {
     "name": "stdout",
     "output_type": "stream",
     "text": [
      "0    False\n",
      "1    False\n",
      "2    False\n",
      "3    False\n",
      "4     True\n",
      "5     True\n",
      "6    False\n",
      "7    False\n",
      "dtype: bool\n"
     ]
    }
   ],
   "source": [
    "#Answer 6.8:\n",
    "import pandas as pd\n",
    "pattern = r'[0-9][a-z]'\n",
    "print(pd.Series(['1', '2', '1a', '2b', 'America', 'VietnAm','vietnam', '2003c']).str.contains('A', na=False))\n"
   ]
  },
  {
   "cell_type": "code",
   "execution_count": 29,
   "metadata": {},
   "outputs": [
    {
     "name": "stdout",
     "output_type": "stream",
     "text": [
      "   a  b  c\n",
      "0  1  0  0\n",
      "1  1  1  0\n",
      "2  0  0  0\n",
      "3  1  0  1\n"
     ]
    }
   ],
   "source": [
    "#Answer 6.9:\n",
    "import pandas as pd\n",
    "import numpy as np\n",
    "s = pd.Series(['a', 'a|b', np.nan, 'a|c'])\n",
    "print(s.str.get_dummies(sep='|'))\n",
    "\n"
   ]
  },
  {
   "cell_type": "code",
   "execution_count": 30,
   "metadata": {},
   "outputs": [
    {
     "name": "stdout",
     "output_type": "stream",
     "text": [
      "   key  ltable  rtable\n",
      "0  One       1       4\n",
      "1  Two       2       5\n"
     ]
    }
   ],
   "source": [
    "#Answer 6.10:\n",
    "import pandas as pd\n",
    "left = pd.DataFrame({'key': ['One', 'Two'], 'ltable': [1, 2]})\n",
    "right = pd.DataFrame({'key': ['One', 'Two'], 'rtable': [4, 5]})\n",
    "new=pd.merge(left, right, on='key')\n",
    "print(new)\n"
   ]
  },
  {
   "cell_type": "code",
   "execution_count": null,
   "metadata": {
    "collapsed": true
   },
   "outputs": [],
   "source": []
  }
 ],
 "metadata": {
  "kernelspec": {
   "display_name": "Python 3",
   "language": "python",
   "name": "python3"
  },
  "language_info": {
   "codemirror_mode": {
    "name": "ipython",
    "version": 3
   },
   "file_extension": ".py",
   "mimetype": "text/x-python",
   "name": "python",
   "nbconvert_exporter": "python",
   "pygments_lexer": "ipython3",
   "version": "3.6.3"
  }
 },
 "nbformat": 4,
 "nbformat_minor": 2
}
