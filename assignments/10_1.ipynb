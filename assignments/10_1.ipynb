{
 "cells": [
  {
   "cell_type": "code",
   "execution_count": null,
   "metadata": {
    "collapsed": true
   },
   "outputs": [],
   "source": [
    "import pandas as pd\n",
    "import matplotlib.pyplot as plot\n",
    "%matplotlib inline"
   ]
  },
  {
   "cell_type": "code",
   "execution_count": 2,
   "metadata": {
    "collapsed": true
   },
   "outputs": [],
   "source": [
    "voice = pd.read_csv(\"voice.csv\")"
   ]
  },
  {
   "cell_type": "code",
   "execution_count": 5,
   "metadata": {},
   "outputs": [
    {
     "data": {
      "text/plain": [
       "Index(['meanfreq', 'sd', 'median', 'Q25', 'Q75', 'IQR', 'skew', 'kurt',\n",
       "       'sp.ent', 'sfm', 'mode', 'centroid', 'meanfun', 'minfun', 'maxfun',\n",
       "       'meandom', 'mindom', 'maxdom', 'dfrange', 'modindx', 'label'],\n",
       "      dtype='object')"
      ]
     },
     "execution_count": 5,
     "metadata": {},
     "output_type": "execute_result"
    }
   ],
   "source": [
    "voice.columns"
   ]
  },
  {
   "cell_type": "code",
   "execution_count": 4,
   "metadata": {
    "collapsed": true
   },
   "outputs": [],
   "source": [
    "from sklearn.linear_model import LogisticRegression"
   ]
  },
  {
   "cell_type": "code",
   "execution_count": 8,
   "metadata": {},
   "outputs": [],
   "source": [
    "from sklearn.model_selection import train_test_split\n",
    "X,y = voice.iloc[:,:-1].values, voice.iloc[:,-1].values\n",
    "from sklearn.preprocessing import LabelEncoder\n",
    "label_encoder = LabelEncoder()\n",
    "y = label_encoder.fit_transform(y)\n",
    "X_train, X_test, y_train, y_test = train_test_split(X, y, test_size=0.2, random_state=1)"
   ]
  },
  {
   "cell_type": "code",
   "execution_count": 9,
   "metadata": {},
   "outputs": [
    {
     "data": {
      "text/plain": [
       "LogisticRegression(C=1.0, class_weight=None, dual=False, fit_intercept=True,\n",
       "          intercept_scaling=1, max_iter=100, multi_class='ovr', n_jobs=1,\n",
       "          penalty='l2', random_state=None, solver='liblinear', tol=0.0001,\n",
       "          verbose=0, warm_start=False)"
      ]
     },
     "execution_count": 9,
     "metadata": {},
     "output_type": "execute_result"
    }
   ],
   "source": [
    "from sklearn.linear_model import LogisticRegression\n",
    "lr = LogisticRegression()\n",
    "lr.fit(X_train,y_train)"
   ]
  },
  {
   "cell_type": "code",
   "execution_count": 10,
   "metadata": {
    "collapsed": true
   },
   "outputs": [],
   "source": [
    "y_predict = lr.predict(X_test)"
   ]
  },
  {
   "cell_type": "code",
   "execution_count": 11,
   "metadata": {
    "collapsed": true
   },
   "outputs": [],
   "source": [
    "from sklearn.metrics import accuracy_score"
   ]
  },
  {
   "cell_type": "code",
   "execution_count": 12,
   "metadata": {},
   "outputs": [
    {
     "name": "stdout",
     "output_type": "stream",
     "text": [
      "0.897476340694\n"
     ]
    }
   ],
   "source": [
    "print(accuracy_score(y_predict,y_test))"
   ]
  },
  {
   "cell_type": "code",
   "execution_count": 13,
   "metadata": {},
   "outputs": [
    {
     "name": "stdout",
     "output_type": "stream",
     "text": [
      "          meanfreq        sd    median       Q25       Q75       IQR  \\\n",
      "meanfreq  1.000000 -0.739039  0.925445  0.911416  0.740997 -0.627605   \n",
      "sd       -0.739039  1.000000 -0.562603 -0.846931 -0.161076  0.874660   \n",
      "median    0.925445 -0.562603  1.000000  0.774922  0.731849 -0.477352   \n",
      "Q25       0.911416 -0.846931  0.774922  1.000000  0.477140 -0.874189   \n",
      "Q75       0.740997 -0.161076  0.731849  0.477140  1.000000  0.009636   \n",
      "IQR      -0.627605  0.874660 -0.477352 -0.874189  0.009636  1.000000   \n",
      "skew     -0.322327  0.314597 -0.257407 -0.319475 -0.206339  0.249497   \n",
      "kurt     -0.316036  0.346241 -0.243382 -0.350182 -0.148881  0.316185   \n",
      "sp.ent   -0.601203  0.716620 -0.502005 -0.648126 -0.174905  0.640813   \n",
      "sfm      -0.784332  0.838086 -0.661690 -0.766875 -0.378198  0.663601   \n",
      "mode      0.687715 -0.529150  0.677433  0.591277  0.486857 -0.403764   \n",
      "centroid  1.000000 -0.739039  0.925445  0.911416  0.740997 -0.627605   \n",
      "meanfun   0.460844 -0.466281  0.414909  0.545035  0.155091 -0.534462   \n",
      "minfun    0.383937 -0.345609  0.337602  0.320994  0.258002 -0.222680   \n",
      "maxfun    0.274004 -0.129662  0.251328  0.199841  0.285584 -0.069588   \n",
      "meandom   0.536666 -0.482726  0.455943  0.467403  0.359181 -0.333362   \n",
      "mindom    0.229261 -0.357667  0.191169  0.302255 -0.023750 -0.357037   \n",
      "maxdom    0.519528 -0.482278  0.438919  0.459683  0.335114 -0.337877   \n",
      "dfrange   0.515570 -0.475999  0.435621  0.454394  0.335648 -0.331563   \n",
      "modindx  -0.216979  0.122660 -0.213298 -0.141377 -0.216475  0.041252   \n",
      "\n",
      "              skew      kurt    sp.ent       sfm      mode  centroid  \\\n",
      "meanfreq -0.322327 -0.316036 -0.601203 -0.784332  0.687715  1.000000   \n",
      "sd        0.314597  0.346241  0.716620  0.838086 -0.529150 -0.739039   \n",
      "median   -0.257407 -0.243382 -0.502005 -0.661690  0.677433  0.925445   \n",
      "Q25      -0.319475 -0.350182 -0.648126 -0.766875  0.591277  0.911416   \n",
      "Q75      -0.206339 -0.148881 -0.174905 -0.378198  0.486857  0.740997   \n",
      "IQR       0.249497  0.316185  0.640813  0.663601 -0.403764 -0.627605   \n",
      "skew      1.000000  0.977020 -0.195459  0.079694 -0.434859 -0.322327   \n",
      "kurt      0.977020  1.000000 -0.127644  0.109884 -0.406722 -0.316036   \n",
      "sp.ent   -0.195459 -0.127644  1.000000  0.866411 -0.325298 -0.601203   \n",
      "sfm       0.079694  0.109884  0.866411  1.000000 -0.485913 -0.784332   \n",
      "mode     -0.434859 -0.406722 -0.325298 -0.485913  1.000000  0.687715   \n",
      "centroid -0.322327 -0.316036 -0.601203 -0.784332  0.687715  1.000000   \n",
      "meanfun  -0.167668 -0.194560 -0.513194 -0.421066  0.324771  0.460844   \n",
      "minfun   -0.216954 -0.203201 -0.305826 -0.362100  0.385467  0.383937   \n",
      "maxfun   -0.080861 -0.045667 -0.120738 -0.192369  0.172329  0.274004   \n",
      "meandom  -0.336848 -0.303234 -0.293562 -0.428442  0.491479  0.536666   \n",
      "mindom   -0.061608 -0.103313 -0.294869 -0.289593  0.198150  0.229261   \n",
      "maxdom   -0.305651 -0.274500 -0.324253 -0.436649  0.477187  0.519528   \n",
      "dfrange  -0.304640 -0.272729 -0.319054 -0.431580  0.473775  0.515570   \n",
      "modindx  -0.169325 -0.205539  0.198074  0.211477 -0.182344 -0.216979   \n",
      "\n",
      "           meanfun    minfun    maxfun   meandom    mindom    maxdom  \\\n",
      "meanfreq  0.460844  0.383937  0.274004  0.536666  0.229261  0.519528   \n",
      "sd       -0.466281 -0.345609 -0.129662 -0.482726 -0.357667 -0.482278   \n",
      "median    0.414909  0.337602  0.251328  0.455943  0.191169  0.438919   \n",
      "Q25       0.545035  0.320994  0.199841  0.467403  0.302255  0.459683   \n",
      "Q75       0.155091  0.258002  0.285584  0.359181 -0.023750  0.335114   \n",
      "IQR      -0.534462 -0.222680 -0.069588 -0.333362 -0.357037 -0.337877   \n",
      "skew     -0.167668 -0.216954 -0.080861 -0.336848 -0.061608 -0.305651   \n",
      "kurt     -0.194560 -0.203201 -0.045667 -0.303234 -0.103313 -0.274500   \n",
      "sp.ent   -0.513194 -0.305826 -0.120738 -0.293562 -0.294869 -0.324253   \n",
      "sfm      -0.421066 -0.362100 -0.192369 -0.428442 -0.289593 -0.436649   \n",
      "mode      0.324771  0.385467  0.172329  0.491479  0.198150  0.477187   \n",
      "centroid  0.460844  0.383937  0.274004  0.536666  0.229261  0.519528   \n",
      "meanfun   1.000000  0.339387  0.311950  0.270840  0.162163  0.277982   \n",
      "minfun    0.339387  1.000000  0.213987  0.375979  0.082015  0.317860   \n",
      "maxfun    0.311950  0.213987  1.000000  0.337553 -0.243426  0.355390   \n",
      "meandom   0.270840  0.375979  0.337553  1.000000  0.099656  0.812838   \n",
      "mindom    0.162163  0.082015 -0.243426  0.099656  1.000000  0.026640   \n",
      "maxdom    0.277982  0.317860  0.355390  0.812838  0.026640  1.000000   \n",
      "dfrange   0.275154  0.316486  0.359880  0.811304  0.008666  0.999838   \n",
      "modindx  -0.054858  0.002042 -0.363029 -0.180954  0.200212 -0.425531   \n",
      "\n",
      "           dfrange   modindx  \n",
      "meanfreq  0.515570 -0.216979  \n",
      "sd       -0.475999  0.122660  \n",
      "median    0.435621 -0.213298  \n",
      "Q25       0.454394 -0.141377  \n",
      "Q75       0.335648 -0.216475  \n",
      "IQR      -0.331563  0.041252  \n",
      "skew     -0.304640 -0.169325  \n",
      "kurt     -0.272729 -0.205539  \n",
      "sp.ent   -0.319054  0.198074  \n",
      "sfm      -0.431580  0.211477  \n",
      "mode      0.473775 -0.182344  \n",
      "centroid  0.515570 -0.216979  \n",
      "meanfun   0.275154 -0.054858  \n",
      "minfun    0.316486  0.002042  \n",
      "maxfun    0.359880 -0.363029  \n",
      "meandom   0.811304 -0.180954  \n",
      "mindom    0.008666  0.200212  \n",
      "maxdom    0.999838 -0.425531  \n",
      "dfrange   1.000000 -0.429266  \n",
      "modindx  -0.429266  1.000000  \n"
     ]
    }
   ],
   "source": [
    "corr_matrix = voice.corr()\n",
    "print(corr_matrix)"
   ]
  },
  {
   "cell_type": "code",
   "execution_count": 14,
   "metadata": {},
   "outputs": [
    {
     "data": {
      "image/png": "[encoded data removed]",
      "text/plain": [
       "<matplotlib.figure.Figure at 0x117741940>"
      ]
     },
     "metadata": {},
     "output_type": "display_data"
    }
   ],
   "source": [
    "import seaborn as sns\n",
    "sns.heatmap(corr_matrix,square=True,cmap=plot.cm.RdYlGn)\n",
    "plot.yticks(rotation=0)\n",
    "plot.xticks(rotation=90)\n",
    "plot.show()"
   ]
  },
  {
   "cell_type": "code",
   "execution_count": 17,
   "metadata": {},
   "outputs": [],
   "source": [
    "X,y = voice.iloc[:,[1,3,4,5,7,8,9,10,12,13,14,15,16,18]].values, voice.iloc[:,-1].values\n",
    "from sklearn.preprocessing import LabelEncoder\n",
    "label_encoder = LabelEncoder()\n",
    "y = label_encoder.fit_transform(y)\n",
    "X_train, X_test, y_train, y_test = train_test_split(X, y, test_size=0.2, random_state=1)"
   ]
  },
  {
   "cell_type": "code",
   "execution_count": 18,
   "metadata": {},
   "outputs": [
    {
     "data": {
      "text/plain": [
       "LogisticRegression(C=1.0, class_weight=None, dual=False, fit_intercept=True,\n",
       "          intercept_scaling=1, max_iter=100, multi_class='ovr', n_jobs=1,\n",
       "          penalty='l2', random_state=None, solver='liblinear', tol=0.0001,\n",
       "          verbose=0, warm_start=False)"
      ]
     },
     "execution_count": 18,
     "metadata": {},
     "output_type": "execute_result"
    }
   ],
   "source": [
    "lr = LogisticRegression()\n",
    "lr.fit(X_train,y_train)"
   ]
  },
  {
   "cell_type": "code",
   "execution_count": null,
   "metadata": {
    "collapsed": true
   },
   "outputs": [],
   "source": [
    ""
   ]
  }
 ],
 "metadata": {
  "kernelspec": {
   "display_name": "Python 3",
   "language": "python",
   "name": "python3"
  },
  "language_info": {
   "codemirror_mode": {
    "name": "ipython",
    "version": 3
   },
   "file_extension": ".py",
   "mimetype": "text/x-python",
   "name": "python",
   "nbconvert_exporter": "python",
   "pygments_lexer": "ipython3",
   "version": "3.6.3"
  }
 },
 "nbformat": 4,
 "nbformat_minor": 0
}
